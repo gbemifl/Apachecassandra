{
 "cells": [
  {
   "cell_type": "markdown",
   "metadata": {
    "editable": true
   },
   "source": [
    "# Part I. ETL Pipeline for Pre-Processing the Files"
   ]
  },
  {
   "cell_type": "markdown",
   "metadata": {
    "editable": true
   },
   "source": [
    "## PLEASE RUN THE FOLLOWING CODE FOR PRE-PROCESSING THE FILES"
   ]
  },
  {
   "cell_type": "markdown",
   "metadata": {
    "editable": true
   },
   "source": [
    "#### Import Python packages "
   ]
  },
  {
   "cell_type": "code",
   "execution_count": 23,
   "metadata": {
    "editable": true
   },
   "outputs": [],
   "source": [
    "# Import Python packages \n",
    "import pandas as pd\n",
    "import cassandra\n",
    "import re\n",
    "import os\n",
    "import glob\n",
    "import numpy as np\n",
    "import json\n",
    "import csv"
   ]
  },
  {
   "cell_type": "markdown",
   "metadata": {
    "editable": true
   },
   "source": [
    "#### Creating list of filepaths to process original event csv data files"
   ]
  },
  {
   "cell_type": "code",
   "execution_count": 24,
   "metadata": {
    "editable": true
   },
   "outputs": [
    {
     "name": "stdout",
     "output_type": "stream",
     "text": [
      "/home/workspace\n"
     ]
    }
   ],
   "source": [
    "# checking your current working directory\n",
    "print(os.getcwd())\n",
    "\n",
    "# Get your current folder and subfolder event data\n",
    "filepath = os.getcwd() + '/event_data'\n",
    "\n",
    "# Create a for loop to create a list of files and collect each filepath\n",
    "for root, dirs, files in os.walk(filepath):\n",
    "    \n",
    "# join the file path and roots with the subdirectories using glob\n",
    "    file_path_list = glob.glob(os.path.join(root,'*'))\n",
    "    #print(file_path_list)\n",
    "    #print(len(file_path_list))"
   ]
  },
  {
   "cell_type": "markdown",
   "metadata": {
    "editable": true
   },
   "source": [
    "#### Processing the files to create the data file csv that will be used for Apache Casssandra tables"
   ]
  },
  {
   "cell_type": "code",
   "execution_count": 25,
   "metadata": {
    "editable": true
   },
   "outputs": [
    {
     "name": "stdout",
     "output_type": "stream",
     "text": [
      "126\n"
     ]
    }
   ],
   "source": [
    "# initiating an empty list of rows that will be generated from each file\n",
    "full_data_rows_list = [] \n",
    "    \n",
    "# for every filepath in the file path list \n",
    "for f in file_path_list:\n",
    "\n",
    "# reading csv file \n",
    "    with open(f, 'r', encoding = 'utf8', newline='') as csvfile: \n",
    "        # creating a csv reader object \n",
    "        csvreader = csv.reader(csvfile) \n",
    "        next(csvreader)\n",
    "        \n",
    " # extracting each data row one by one and append it        \n",
    "        for line in csvreader:\n",
    "            #print(line)\n",
    "            full_data_rows_list.append(line) \n",
    "            \n",
    "# uncomment the code below if you would like to get total number of rows \n",
    "print(len(full_data_rows_list))\n",
    "# #print(full_data_rows_list)\n",
    "\n",
    "# creating a smaller event data csv file called event_datafile_full csv that will be used to insert data into the \\\n",
    "# Apache Cassandra tables\n",
    "csv.register_dialect('myDialect', quoting=csv.QUOTE_ALL, skipinitialspace=True)\n",
    "\n",
    "with open('event_datafile_new.csv', 'w', encoding = 'utf8', newline='') as f:\n",
    "    writer = csv.writer(f, dialect='myDialect')\n",
    "    writer.writerow(['artist','firstName','gender','itemInSession','lastName','length',\\\n",
    "                'level','location','sessionId','song','userId'])\n",
    "    for row in full_data_rows_list:\n",
    "        if (row[0] == ''):\n",
    "            continue\n",
    "        writer.writerow((row[0], row[2], row[3], row[4], row[5], row[6], row[7], row[8], row[12], row[13], row[16]))\n"
   ]
  },
  {
   "cell_type": "code",
   "execution_count": 26,
   "metadata": {
    "collapsed": true,
    "editable": true,
    "jupyter": {
     "outputs_hidden": true
    }
   },
   "outputs": [
    {
     "name": "stdout",
     "output_type": "stream",
     "text": [
      "[['', 'Logged Out', '', '', '0', '', '', 'free', '', 'PUT', 'Login', '', '52', '', '307', '1.54121E+12', ''], ['', 'Logged In', 'Celeste', 'F', '1', 'Williams', '', 'free', 'Klamath Falls, OR', 'GET', 'Home', '1.54108E+12', '52', '', '200', '1.54121E+12', '53'], ['Mynt', 'Logged In', 'Celeste', 'F', '2', 'Williams', '166.94812', 'free', 'Klamath Falls, OR', 'PUT', 'NextSong', '1.54108E+12', '52', 'Playa Haters', '200', '1.54121E+12', '53'], ['Taylor Swift', 'Logged In', 'Celeste', 'F', '3', 'Williams', '230.47791', 'free', 'Klamath Falls, OR', 'PUT', 'NextSong', '1.54108E+12', '52', 'You Belong With Me', '200', '1.54121E+12', '53'], ['Amy Winehouse', 'Logged In', 'Celeste', 'F', '4', 'Williams', '229.85098', 'free', 'Klamath Falls, OR', 'PUT', 'NextSong', '1.54108E+12', '52', 'Valerie', '200', '1.54121E+12', '53'], ['Jimmy Eat World', 'Logged In', 'Celeste', 'F', '5', 'Williams', '285.83138', 'free', 'Klamath Falls, OR', 'PUT', 'NextSong', '1.54108E+12', '52', 'Dizzy', '200', '1.54121E+12', '53'], ['', 'Logged Out', '', '', '0', '', '', 'free', '', 'GET', 'Home', '', '18', '', '200', '1.54124E+12', ''], ['Maldita Nerea', 'Logged In', 'Anabelle', 'F', '0', 'Simpson', '241.162', 'free', 'Philadelphia-Camden-Wilmington, PA-NJ-DE-MD', 'PUT', 'NextSong', '1.54104E+12', '158', 'Supelicula', '200', '1.54125E+12', '69'], ['Fluke', 'Logged In', 'Connar', 'M', '0', 'Moreno', '478.92853', 'free', 'Houston-The Woodlands-Sugar Land, TX', 'PUT', 'NextSong', '1.54082E+12', '168', 'Bermuda', '200', '1.54126E+12', '62'], ['Habib KoitÃ\\x83Â©', 'Logged In', 'Jayden', 'M', '0', 'Fox', '285.1522', 'free', 'New Orleans-Metairie, LA', 'PUT', 'NextSong', '1.54103E+12', '185', 'Din Din Wo', '200', '1.54126E+12', '101'], ['The Kooks', 'Logged In', 'Sara', 'F', '0', 'Johnson', '132.25751', 'paid', 'Winston-Salem, NC', 'PUT', 'NextSong', '1.54081E+12', '152', \"Eddie's Gun\", '200', '1.54126E+12', '95'], ['Blues Traveler', 'Logged In', 'Sara', 'F', '1', 'Johnson', '290.24608', 'paid', 'Winston-Salem, NC', 'PUT', 'NextSong', '1.54081E+12', '152', 'Hook', '200', '1.54126E+12', '95'], ['Coldplay', 'Logged In', 'Sara', 'F', '2', 'Johnson', '298.762', 'paid', 'Winston-Salem, NC', 'PUT', 'NextSong', '1.54081E+12', '152', 'Shiver', '200', '1.54126E+12', '95'], ['Tom Petty And The Heartbreakers', 'Logged In', 'Sara', 'F', '3', 'Johnson', '183.01342', 'paid', 'Winston-Salem, NC', 'PUT', 'NextSong', '1.54081E+12', '152', 'The Wild One_ Forever', '200', '1.54126E+12', '95'], ['Girl Talk', 'Logged In', 'Sara', 'F', '4', 'Johnson', '173.24363', 'paid', 'Winston-Salem, NC', 'PUT', 'NextSong', '1.54081E+12', '152', 'Give and Go', '200', '1.54126E+12', '95'], ['Florence + The Machine', 'Logged In', 'Sara', 'F', '5', 'Johnson', '258.55955', 'paid', 'Winston-Salem, NC', 'PUT', 'NextSong', '1.54081E+12', '152', 'Cosmic Love', '200', '1.54126E+12', '95'], ['Three Drives', 'Logged In', 'Sara', 'F', '6', 'Johnson', '411.6371', 'paid', 'Winston-Salem, NC', 'PUT', 'NextSong', '1.54081E+12', '152', 'Greece 2000', '200', '1.54126E+12', '95'], ['Jonas Brothers', 'Logged In', 'Sara', 'F', '7', 'Johnson', '192.36526', 'paid', 'Winston-Salem, NC', 'PUT', 'NextSong', '1.54081E+12', '152', 'Sorry', '200', '1.54126E+12', '95'], ['Tevin Campbell', 'Logged In', 'Sara', 'F', '8', 'Johnson', '293.04118', 'paid', 'Winston-Salem, NC', 'PUT', 'NextSong', '1.54081E+12', '152', 'Round And Round (Soul Mix Edit)', '200', '1.54126E+12', '95'], ['Sting', 'Logged In', 'Sara', 'F', '9', 'Johnson', '257.12281', 'paid', 'Winston-Salem, NC', 'PUT', 'NextSong', '1.54081E+12', '152', 'Windmills Of Your Mind', '200', '1.54126E+12', '95'], ['The Champs', 'Logged In', 'Sara', 'F', '10', 'Johnson', '132.0224', 'paid', 'Winston-Salem, NC', 'PUT', 'NextSong', '1.54081E+12', '152', 'Tequila', '200', '1.54126E+12', '95'], ['RÃ\\x83Â¶yksopp', 'Logged In', 'Sara', 'F', '11', 'Johnson', '214.93506', 'paid', 'Winston-Salem, NC', 'PUT', 'NextSong', '1.54081E+12', '152', 'Poor Leno Jakatta Radio Mix', '200', '1.54126E+12', '95'], ['Avenged Sevenfold', 'Logged In', 'Sara', 'F', '12', 'Johnson', '312.11057', 'paid', 'Winston-Salem, NC', 'PUT', 'NextSong', '1.54081E+12', '152', 'Bat Country (Album Version)', '200', '1.54126E+12', '95'], ['', 'Logged In', 'Sylvie', 'F', '0', 'Cruz', '', 'free', 'Washington-Arlington-Alexandria, DC-VA-MD-WV', 'GET', 'Home', '1.54027E+12', '210', '', '200', '1.54126E+12', '10'], ['Sam Cooke', 'Logged In', 'Sara', 'F', '13', 'Johnson', '122.04363', 'paid', 'Winston-Salem, NC', 'PUT', 'NextSong', '1.54081E+12', '152', \"Ain't Misbehavin\", '200', '1.54126E+12', '95'], ['Apulanta', 'Logged In', 'Sara', 'F', '14', 'Johnson', '219.53261', 'paid', 'Winston-Salem, NC', 'PUT', 'NextSong', '1.54081E+12', '152', 'Hallaa', '200', '1.54126E+12', '95'], ['Era', 'Logged In', 'Sara', 'F', '15', 'Johnson', '200.56771', 'paid', 'Winston-Salem, NC', 'PUT', 'NextSong', '1.54081E+12', '152', 'Cathar Rhythm', '200', '1.54126E+12', '95'], ['Klaus Badelt', 'Logged In', 'Sylvie', 'F', '1', 'Cruz', '128.62649', 'free', 'Washington-Arlington-Alexandria, DC-VA-MD-WV', 'PUT', 'NextSong', '1.54027E+12', '210', 'Moonlight Serenade', '200', '1.54126E+12', '10'], ['Parov Stelar', 'Logged In', 'Sara', 'F', '16', 'Johnson', '281.5473', 'paid', 'Winston-Salem, NC', 'PUT', 'NextSong', '1.54081E+12', '152', 'KissKiss', '200', '1.54126E+12', '95'], ['Florence + The Machine', 'Logged In', 'Lily', 'F', '0', 'Koch', '290.48118', 'paid', 'Chicago-Naperville-Elgin, IL-IN-WI', 'PUT', 'NextSong', '1.54105E+12', '199', 'Rabbit Heart (Raise It Up)', '200', '1.54126E+12', '15'], ['De La Soul', 'Logged In', 'Sara', 'F', '17', 'Johnson', '221.72689', 'paid', 'Winston-Salem, NC', 'PUT', 'NextSong', '1.54081E+12', '152', 'Me_ Myself & I', '200', '1.54126E+12', '95'], ['Lil Wayne / T-Pain', 'Logged In', 'Sara', 'F', '18', 'Johnson', '244.58404', 'paid', 'Winston-Salem, NC', 'PUT', 'NextSong', '1.54081E+12', '152', 'Got Money', '200', '1.54126E+12', '95'], ['Cher', 'Logged In', 'Lily', 'F', '1', 'Koch', '167.41832', 'paid', 'Chicago-Naperville-Elgin, IL-IN-WI', 'PUT', 'NextSong', '1.54105E+12', '199', 'Milord', '200', '1.54126E+12', '15'], ['Edge Of Dawn', 'Logged In', 'Lily', 'F', '2', 'Koch', '253.72689', 'paid', 'Chicago-Naperville-Elgin, IL-IN-WI', 'PUT', 'NextSong', '1.54105E+12', '199', 'Losing Ground', '200', '1.54126E+12', '15'], ['The Black Keys', 'Logged In', 'Sara', 'F', '19', 'Johnson', '223.84281', 'paid', 'Winston-Salem, NC', 'PUT', 'NextSong', '1.54081E+12', '152', 'Elevator', '200', '1.54126E+12', '95'], ['Smokie Norful', 'Logged In', 'Lily', 'F', '3', 'Koch', '337.84118', 'paid', 'Chicago-Naperville-Elgin, IL-IN-WI', 'PUT', 'NextSong', '1.54105E+12', '199', 'I Need You Now (Build A Bridge Version)', '200', '1.54126E+12', '15'], ['Adam Lambert', 'Logged In', 'Sara', 'F', '20', 'Johnson', '227.39546', 'paid', 'Winston-Salem, NC', 'PUT', 'NextSong', '1.54081E+12', '152', 'Whataya Want From Me', '200', '1.54127E+12', '95'], ['Pulp', 'Logged In', 'Sara', 'F', '21', 'Johnson', '208.95302', 'paid', 'Winston-Salem, NC', 'PUT', 'NextSong', '1.54081E+12', '152', 'Little Girl (With Blue Eyes)', '200', '1.54127E+12', '95'], ['Alliance Ethnik', 'Logged In', 'Lily', 'F', '4', 'Koch', '265.76934', 'paid', 'Chicago-Naperville-Elgin, IL-IN-WI', 'PUT', 'NextSong', '1.54105E+12', '199', 'Creil City', '200', '1.54127E+12', '15'], ['Tricky', 'Logged In', 'Sara', 'F', '22', 'Johnson', '212.79302', 'paid', 'Winston-Salem, NC', 'PUT', 'NextSong', '1.54081E+12', '152', 'Ponderosa', '200', '1.54127E+12', '95'], ['John Butler Trio', 'Logged In', 'Lily', 'F', '5', 'Koch', '223.68608', 'paid', 'Chicago-Naperville-Elgin, IL-IN-WI', 'PUT', 'NextSong', '1.54105E+12', '199', 'Betterman (full-length/album version)', '200', '1.54127E+12', '15'], ['Culture Club', 'Logged In', 'Sara', 'F', '23', 'Johnson', '282.48771', 'paid', 'Winston-Salem, NC', 'PUT', 'NextSong', '1.54081E+12', '152', 'Believe (Demo)', '200', '1.54127E+12', '95'], ['The Temper Trap', 'Logged In', 'Lily', 'F', '6', 'Koch', '192.67873', 'paid', 'Chicago-Naperville-Elgin, IL-IN-WI', 'PUT', 'NextSong', '1.54105E+12', '199', 'Fader', '200', '1.54127E+12', '15'], ['La Mosca Tse-Tse', 'Logged In', 'Sara', 'F', '24', 'Johnson', '195.082', 'paid', 'Winston-Salem, NC', 'PUT', 'NextSong', '1.54081E+12', '152', 'Patadas En El Corazon', '200', '1.54127E+12', '95'], ['Cute Is What We Aim For', 'Logged In', 'Lily', 'F', '7', 'Koch', '201.22077', 'paid', 'Chicago-Naperville-Elgin, IL-IN-WI', 'PUT', 'NextSong', '1.54105E+12', '199', 'Finger Twist & Split (Album Version)', '200', '1.54127E+12', '15'], ['Jack Johnson', 'Logged In', 'Sara', 'F', '25', 'Johnson', '236.72118', 'paid', 'Winston-Salem, NC', 'PUT', 'NextSong', '1.54081E+12', '152', 'Bubble Toes', '200', '1.54127E+12', '95'], ['Siriusmo', 'Logged In', 'Lily', 'F', '8', 'Koch', '272.61342', 'paid', 'Chicago-Naperville-Elgin, IL-IN-WI', 'PUT', 'NextSong', '1.54105E+12', '199', 'Simple', '200', '1.54127E+12', '15'], ['Creedence Clearwater Revival', 'Logged In', 'Sara', 'F', '26', 'Johnson', '312.89424', 'paid', 'Winston-Salem, NC', 'PUT', 'NextSong', '1.54081E+12', '152', \"Feelin' Blue\", '200', '1.54127E+12', '95'], ['Alberto Plaza', 'Logged In', 'Lily', 'F', '9', 'Koch', '271.3073', 'paid', 'Chicago-Naperville-Elgin, IL-IN-WI', 'PUT', 'NextSong', '1.54105E+12', '199', 'No Seas Cruel (vivo)', '200', '1.54127E+12', '15'], ['Brand New', 'Logged In', 'Sara', 'F', '27', 'Johnson', '188.49914', 'paid', 'Winston-Salem, NC', 'PUT', 'NextSong', '1.54081E+12', '152', 'Not The Sun', '200', '1.54127E+12', '95'], ['Sean Lennon', 'Logged In', 'Lily', 'F', '10', 'Koch', '202.97098', 'paid', 'Chicago-Naperville-Elgin, IL-IN-WI', 'PUT', 'NextSong', '1.54105E+12', '199', 'Into The Sun', '200', '1.54127E+12', '15'], ['K-OS', 'Logged In', 'Sara', 'F', '28', 'Johnson', '211.33016', 'paid', 'Winston-Salem, NC', 'PUT', 'NextSong', '1.54081E+12', '152', 'EMCEE Murdah', '200', '1.54127E+12', '95'], ['Nana Caymmi', 'Logged In', 'Lily', 'F', '11', 'Koch', '251.0624', 'paid', 'Chicago-Naperville-Elgin, IL-IN-WI', 'PUT', 'NextSong', '1.54105E+12', '199', 'Acercate Mas (2000 Digital Remaster)', '200', '1.54127E+12', '15'], ['Casino Versus Japan', 'Logged In', 'Sara', 'F', '29', 'Johnson', '86.30812', 'paid', 'Winston-Salem, NC', 'PUT', 'NextSong', '1.54081E+12', '152', 'Moonlupe', '200', '1.54127E+12', '95'], ['the bird and the bee', 'Logged In', 'Sara', 'F', '30', 'Johnson', '281.23383', 'paid', 'Winston-Salem, NC', 'PUT', 'NextSong', '1.54081E+12', '152', 'Ray Gun', '200', '1.54127E+12', '95'], ['Skyforger', 'Logged In', 'Lily', 'F', '12', 'Koch', '38.94812', 'paid', 'Chicago-Naperville-Elgin, IL-IN-WI', 'PUT', 'NextSong', '1.54105E+12', '199', \"In the Yard of the Father's Son\", '200', '1.54127E+12', '15'], ['Bryan Ferry', 'Logged In', 'Lily', 'F', '13', 'Koch', '265.87383', 'paid', 'Chicago-Naperville-Elgin, IL-IN-WI', 'PUT', 'NextSong', '1.54105E+12', '199', 'Slave To Love (1999 Digital Remaster)', '200', '1.54127E+12', '15'], ['The Black Keys', 'Logged In', 'Sara', 'F', '31', 'Johnson', '196.91057', 'paid', 'Winston-Salem, NC', 'PUT', 'NextSong', '1.54081E+12', '152', 'All Hands Against His Own', '200', '1.54127E+12', '95'], ['Foxy Shazam', 'Logged In', 'Lily', 'F', '14', 'Koch', '201.74322', 'paid', 'Chicago-Naperville-Elgin, IL-IN-WI', 'PUT', 'NextSong', '1.54105E+12', '199', 'Wanna-be Angel (Album Version)', '200', '1.54127E+12', '15'], ['The Ruts', 'Logged In', 'Sara', 'F', '32', 'Johnson', '338.96444', 'paid', 'Winston-Salem, NC', 'PUT', 'NextSong', '1.54081E+12', '152', 'West One (Shine On Me)', '200', '1.54127E+12', '95'], [\"Old 97's\", 'Logged In', 'Lily', 'F', '15', 'Koch', '231.28771', 'paid', 'Chicago-Naperville-Elgin, IL-IN-WI', 'PUT', 'NextSong', '1.54105E+12', '199', 'Victoria (LP Version)', '200', '1.54127E+12', '15'], ['Lonnie Gordon', 'Logged In', 'Lily', 'F', '16', 'Koch', '181.21098', 'paid', 'Chicago-Naperville-Elgin, IL-IN-WI', 'PUT', 'NextSong', '1.54105E+12', '199', 'Catch You Baby (Steve Pitron & Max Sanna Radio Edit)', '200', '1.54127E+12', '15'], ['Bon Iver', 'Logged In', 'Sara', 'F', '33', 'Johnson', '220.70812', 'paid', 'Winston-Salem, NC', 'PUT', 'NextSong', '1.54081E+12', '152', 'For Emma', '200', '1.54127E+12', '95'], ['Florence + The Machine', 'Logged In', 'Lily', 'F', '17', 'Koch', '219.66322', 'paid', 'Chicago-Naperville-Elgin, IL-IN-WI', 'PUT', 'NextSong', '1.54105E+12', '199', 'Dog Days Are Over (Radio Edit)', '200', '1.54127E+12', '15'], ['Glen Washington', 'Logged In', 'Sara', 'F', '34', 'Johnson', '193.82812', 'paid', 'Winston-Salem, NC', 'PUT', 'NextSong', '1.54081E+12', '152', 'One Of These Days', '200', '1.54127E+12', '95'], ['Mad Cobra', 'Logged In', 'Lily', 'F', '18', 'Koch', '230.68689', 'paid', 'Chicago-Naperville-Elgin, IL-IN-WI', 'PUT', 'NextSong', '1.54105E+12', '199', 'Flex', '200', '1.54127E+12', '15'], ['Dropout Year', 'Logged In', 'Sara', 'F', '35', 'Johnson', '227.36934', 'paid', 'Winston-Salem, NC', 'PUT', 'NextSong', '1.54081E+12', '152', 'This Notebook', '200', '1.54127E+12', '95'], ['Flogging Molly', 'Logged In', 'Lily', 'F', '19', 'Koch', '260.75383', 'paid', 'Chicago-Naperville-Elgin, IL-IN-WI', 'PUT', 'NextSong', '1.54105E+12', '199', 'Punch Drunk Grinning Soul', '200', '1.54127E+12', '15'], ['Young Rebel Set', 'Logged In', 'Sara', 'F', '36', 'Johnson', '248.55465', 'paid', 'Winston-Salem, NC', 'PUT', 'NextSong', '1.54081E+12', '152', 'If I Was', '200', '1.54127E+12', '95'], ['Sneaker Pimps', 'Logged In', 'Lily', 'F', '20', 'Koch', '260.91057', 'paid', 'Chicago-Naperville-Elgin, IL-IN-WI', 'PUT', 'NextSong', '1.54105E+12', '199', 'Spin Spin Sugar', '200', '1.54127E+12', '15'], ['Righteous Brothers', 'Logged In', 'Sara', 'F', '37', 'Johnson', '215.90159', 'paid', 'Winston-Salem, NC', 'PUT', 'NextSong', '1.54081E+12', '152', 'Unchained Melody', '200', '1.54127E+12', '95'], ['Me First And The Gimme Gimmes', 'Logged In', 'Sara', 'F', '38', 'Johnson', '64.39138', 'paid', 'Winston-Salem, NC', 'PUT', 'NextSong', '1.54081E+12', '152', \"Jonny's Blessing\", '200', '1.54127E+12', '95'], ['Texas In July', 'Logged In', 'Lily', 'F', '21', 'Koch', '190.69342', 'paid', 'Chicago-Naperville-Elgin, IL-IN-WI', 'PUT', 'NextSong', '1.54105E+12', '199', 'Aurora', '200', '1.54127E+12', '15'], ['Alice In Chains', 'Logged In', 'Sara', 'F', '39', 'Johnson', '230.60853', 'paid', 'Winston-Salem, NC', 'PUT', 'NextSong', '1.54081E+12', '152', 'God Smack', '200', '1.54127E+12', '95'], ['', 'Logged In', 'Sara', 'F', '40', 'Johnson', '', 'paid', 'Winston-Salem, NC', 'GET', 'Downgrade', '1.54081E+12', '152', '', '200', '1.54127E+12', '95'], ['10 Years', 'Logged In', 'Lily', 'F', '22', 'Koch', '229.95546', 'paid', 'Chicago-Naperville-Elgin, IL-IN-WI', 'PUT', 'NextSong', '1.54105E+12', '199', 'Wasteland', '200', '1.54127E+12', '15'], ['Juanes', 'Logged In', 'Lily', 'F', '23', 'Koch', '233.40363', 'paid', 'Chicago-Naperville-Elgin, IL-IN-WI', 'PUT', 'NextSong', '1.54105E+12', '199', 'No Siento Penas', '200', '1.54127E+12', '15'], ['', 'Logged In', 'Sara', 'F', '41', 'Johnson', '', 'paid', 'Winston-Salem, NC', 'GET', 'Downgrade', '1.54081E+12', '152', '', '200', '1.54127E+12', '95'], ['', 'Logged In', 'Sara', 'F', '42', 'Johnson', '', 'paid', 'Winston-Salem, NC', 'GET', 'Home', '1.54081E+12', '152', '', '200', '1.54127E+12', '95'], ['Cat Stevens', 'Logged In', 'Sara', 'F', '43', 'Johnson', '200.202', 'paid', 'Winston-Salem, NC', 'PUT', 'NextSong', '1.54081E+12', '152', 'Wild World', '200', '1.54127E+12', '95'], ['Passion Pit', 'Logged In', 'Lily', 'F', '24', 'Koch', '174.75873', 'paid', 'Chicago-Naperville-Elgin, IL-IN-WI', 'PUT', 'NextSong', '1.54105E+12', '199', 'Sleepyhead', '200', '1.54127E+12', '15'], ['The Temper Trap', 'Logged In', 'Sara', 'F', '44', 'Johnson', '192.67873', 'paid', 'Winston-Salem, NC', 'PUT', 'NextSong', '1.54081E+12', '152', 'Fader', '200', '1.54127E+12', '95'], ['OneRepublic', 'Logged In', 'Lily', 'F', '25', 'Koch', '224.67873', 'paid', 'Chicago-Naperville-Elgin, IL-IN-WI', 'PUT', 'NextSong', '1.54105E+12', '199', 'Secrets', '200', '1.54127E+12', '15'], ['Diplo', 'Logged In', 'Sara', 'F', '45', 'Johnson', '96.86159', 'paid', 'Winston-Salem, NC', 'PUT', 'NextSong', '1.54081E+12', '152', 'Florida', '200', '1.54127E+12', '95'], ['Afro Celt Sound System', 'Logged In', 'Sara', 'F', '46', 'Johnson', '425.01179', 'paid', 'Winston-Salem, NC', 'PUT', 'NextSong', '1.54081E+12', '152', 'Even In My Dreams', '200', '1.54127E+12', '95'], ['PeterLicht', 'Logged In', 'Lily', 'F', '26', 'Koch', '306.80771', 'paid', 'Chicago-Naperville-Elgin, IL-IN-WI', 'PUT', 'NextSong', '1.54105E+12', '199', 'Heiterkeit', '200', '1.54127E+12', '15'], ['', 'Logged In', 'Lily', 'F', '27', 'Koch', '', 'paid', 'Chicago-Naperville-Elgin, IL-IN-WI', 'GET', 'Downgrade', '1.54105E+12', '199', '', '200', '1.54127E+12', '15'], ['M.A. Numminen', 'Logged In', 'Sara', 'F', '47', 'Johnson', '166.55628', 'paid', 'Winston-Salem, NC', 'PUT', 'NextSong', '1.54081E+12', '152', 'TULENLIEKKI', '200', '1.54127E+12', '95'], ['', 'Logged In', 'Sara', 'F', '48', 'Johnson', '', 'paid', 'Winston-Salem, NC', 'GET', 'Home', '1.54081E+12', '152', '', '200', '1.54127E+12', '95'], ['Limp Bizkit', 'Logged In', 'Sara', 'F', '49', 'Johnson', '214.5171', 'paid', 'Winston-Salem, NC', 'PUT', 'NextSong', '1.54081E+12', '152', \"Rollin' (Air Raid Vehicle)\", '200', '1.54127E+12', '95'], ['Downhere', 'Logged In', 'Sara', 'F', '50', 'Johnson', '230.71302', 'paid', 'Winston-Salem, NC', 'PUT', 'NextSong', '1.54081E+12', '152', 'In America (Album Version)', '200', '1.54127E+12', '95'], ['Roots Manuva', 'Logged In', 'Sara', 'F', '51', 'Johnson', '233.92608', 'paid', 'Winston-Salem, NC', 'PUT', 'NextSong', '1.54081E+12', '152', 'No Love', '200', '1.54127E+12', '95'], ['Lykke Li', 'Logged In', 'Sara', 'F', '52', 'Johnson', '162.19383', 'paid', 'Winston-Salem, NC', 'PUT', 'NextSong', '1.54081E+12', '152', 'Let It Fall', '200', '1.54127E+12', '95'], ['Plan B', 'Logged In', 'Sara', 'F', '53', 'Johnson', '222.82404', 'paid', 'Winston-Salem, NC', 'PUT', 'NextSong', '1.54081E+12', '152', 'Free', '200', '1.54127E+12', '95'], ['Octopus Project', 'Logged In', 'Sara', 'F', '54', 'Johnson', '498.33751', 'paid', 'Winston-Salem, NC', 'PUT', 'NextSong', '1.54081E+12', '152', 'Hypnopaedia', '200', '1.54127E+12', '95'], ['OneRepublic', 'Logged In', 'Sara', 'F', '55', 'Johnson', '224.67873', 'paid', 'Winston-Salem, NC', 'PUT', 'NextSong', '1.54081E+12', '152', 'Secrets', '200', '1.54127E+12', '95'], ['Gilberto Santa Rosa', 'Logged In', 'Sara', 'F', '56', 'Johnson', '272.16934', 'paid', 'Winston-Salem, NC', 'PUT', 'NextSong', '1.54081E+12', '152', 'La Sigo Amando Tanto', '200', '1.54127E+12', '95'], ['Eric Clapton', 'Logged In', 'Sara', 'F', '57', 'Johnson', '271.80363', 'paid', 'Winston-Salem, NC', 'PUT', 'NextSong', '1.54081E+12', '152', 'Tears In Heaven', '200', '1.54127E+12', '95'], ['ARRESTED DEVELOPMENT', 'Logged In', 'Sara', 'F', '58', 'Johnson', '200.98567', 'paid', 'Winston-Salem, NC', 'PUT', 'NextSong', '1.54081E+12', '152', 'Fountain Of Youth', '200', '1.54127E+12', '95'], ['', 'Logged In', 'Sara', 'F', '59', 'Johnson', '', 'paid', 'Winston-Salem, NC', 'GET', 'Home', '1.54081E+12', '152', '', '200', '1.54127E+12', '95'], ['Future Rock', 'Logged In', 'Sara', 'F', '60', 'Johnson', '239.90812', 'paid', 'Winston-Salem, NC', 'PUT', 'NextSong', '1.54081E+12', '152', 'Gears', '200', '1.54127E+12', '95'], ['Steppenwolf', 'Logged In', 'Sara', 'F', '61', 'Johnson', '208.14322', 'paid', 'Winston-Salem, NC', 'PUT', 'NextSong', '1.54081E+12', '152', 'Born To Be Wild', '200', '1.54127E+12', '95'], ['Jason Mraz & Colbie Caillat', 'Logged In', 'Sara', 'F', '62', 'Johnson', '189.6224', 'paid', 'Winston-Salem, NC', 'PUT', 'NextSong', '1.54081E+12', '152', 'Lucky (Album Version)', '200', '1.54127E+12', '95'], ['Leonard Cohen', 'Logged In', 'Sara', 'F', '63', 'Johnson', '298.57914', 'paid', 'Winston-Salem, NC', 'PUT', 'NextSong', '1.54081E+12', '152', 'The Stranger Song', '200', '1.54127E+12', '95'], ['Bright Eyes', 'Logged In', 'Ayla', 'F', '0', 'Johnson', '279.09179', 'free', 'Santa Rosa, CA', 'PUT', 'NextSong', '1.54088E+12', '135', \"Kathy with a K's Song\", '200', '1.54128E+12', '63'], ['', 'Logged In', 'Chloe', 'F', '0', 'Cuevas', '', 'free', 'San Francisco-Oakland-Hayward, CA', 'GET', 'Home', '1.54094E+12', '195', '', '200', '1.54128E+12', '49'], ['The Smiths', 'Logged In', 'Chloe', 'F', '1', 'Cuevas', '196.67546', 'free', 'San Francisco-Oakland-Hayward, CA', 'PUT', 'NextSong', '1.54094E+12', '195', 'The Boy With The Thorn In His Side', '200', '1.54128E+12', '49'], ['Quique Gonzalez', 'Logged In', 'Chloe', 'F', '2', 'Cuevas', '214.20363', 'free', 'San Francisco-Oakland-Hayward, CA', 'PUT', 'NextSong', '1.54094E+12', '195', 'Cuando Eramos Reyes', '200', '1.54128E+12', '49'], ['Muse', 'Logged In', 'Chloe', 'F', '3', 'Cuevas', '210.46812', 'free', 'San Francisco-Oakland-Hayward, CA', 'PUT', 'NextSong', '1.54094E+12', '195', 'Pink Ego Box', '200', '1.54128E+12', '49'], ['Sugarland', 'Logged In', 'Cecilia', 'F', '0', 'Owens', '247.77098', 'free', 'Atlanta-Sandy Springs-Roswell, GA', 'PUT', 'NextSong', '1.54103E+12', '5', 'Just Might (Make Me Believe)', '200', '1.54129E+12', '6'], ['A Hope For Home', 'Logged In', 'Cecilia', 'F', '1', 'Owens', '388.38812', 'free', 'Atlanta-Sandy Springs-Roswell, GA', 'PUT', 'NextSong', '1.54103E+12', '5', 'Absolution: Of Flight and Failure', '200', '1.54129E+12', '6'], ['', 'Logged In', 'Walter', 'M', '0', 'Frye', '', 'free', 'San Francisco-Oakland-Hayward, CA', 'GET', 'Home', '1.54092E+12', '38', '', '200', '1.54111E+12', '39'], ['', 'Logged In', 'Kaylee', 'F', '0', 'Summers', '', 'free', 'Phoenix-Mesa-Scottsdale, AZ', 'GET', 'Home', '1.54034E+12', '139', '', '200', '1.54111E+12', '8'], [\"Des'ree\", 'Logged In', 'Kaylee', 'F', '1', 'Summers', '246.30812', 'free', 'Phoenix-Mesa-Scottsdale, AZ', 'PUT', 'NextSong', '1.54034E+12', '139', 'You Gotta Be', '200', '1.54111E+12', '8'], ['', 'Logged In', 'Kaylee', 'F', '2', 'Summers', '', 'free', 'Phoenix-Mesa-Scottsdale, AZ', 'GET', 'Upgrade', '1.54034E+12', '139', '', '200', '1.54111E+12', '8'], ['Mr Oizo', 'Logged In', 'Kaylee', 'F', '3', 'Summers', '144.03873', 'free', 'Phoenix-Mesa-Scottsdale, AZ', 'PUT', 'NextSong', '1.54034E+12', '139', 'Flat 55', '200', '1.54111E+12', '8'], ['Tamba Trio', 'Logged In', 'Kaylee', 'F', '4', 'Summers', '177.18812', 'free', 'Phoenix-Mesa-Scottsdale, AZ', 'PUT', 'NextSong', '1.54034E+12', '139', 'Quem Quiser Encontrar O Amor', '200', '1.54111E+12', '8'], ['The Mars Volta', 'Logged In', 'Kaylee', 'F', '5', 'Summers', '380.42077', 'free', 'Phoenix-Mesa-Scottsdale, AZ', 'PUT', 'NextSong', '1.54034E+12', '139', 'Eriatarka', '200', '1.54111E+12', '8'], ['Infected Mushroom', 'Logged In', 'Kaylee', 'F', '6', 'Summers', '440.2673', 'free', 'Phoenix-Mesa-Scottsdale, AZ', 'PUT', 'NextSong', '1.54034E+12', '139', 'Becoming Insane', '200', '1.54111E+12', '8'], ['Blue October / Imogen Heap', 'Logged In', 'Kaylee', 'F', '7', 'Summers', '241.3971', 'free', 'Phoenix-Mesa-Scottsdale, AZ', 'PUT', 'NextSong', '1.54034E+12', '139', 'Congratulations', '200', '1.54111E+12', '8'], ['Girl Talk', 'Logged In', 'Kaylee', 'F', '8', 'Summers', '160.15628', 'free', 'Phoenix-Mesa-Scottsdale, AZ', 'PUT', 'NextSong', '1.54034E+12', '139', 'Once again', '200', '1.54111E+12', '8'], ['Black Eyed Peas', 'Logged In', 'Sylvie', 'F', '0', 'Cruz', '214.93506', 'free', 'Washington-Arlington-Alexandria, DC-VA-MD-WV', 'PUT', 'NextSong', '1.54027E+12', '9', 'Pump It', '200', '1.54111E+12', '10'], ['', 'Logged In', 'Ryan', 'M', '0', 'Smith', '', 'free', 'San Jose-Sunnyvale-Santa Clara, CA', 'GET', 'Home', '1.54102E+12', '169', '', '200', '1.54111E+12', '26'], ['Fall Out Boy', 'Logged In', 'Ryan', 'M', '1', 'Smith', '200.72444', 'free', 'San Jose-Sunnyvale-Santa Clara, CA', 'PUT', 'NextSong', '1.54102E+12', '169', 'Nobody Puts Baby In The Corner', '200', '1.54111E+12', '26'], ['M.I.A.', 'Logged In', 'Ryan', 'M', '2', 'Smith', '233.7171', 'free', 'San Jose-Sunnyvale-Santa Clara, CA', 'PUT', 'NextSong', '1.54102E+12', '169', 'Mango Pickle Down River (With The Wilcannia Mob)', '200', '1.54111E+12', '26'], ['Survivor', 'Logged In', 'Jayden', 'M', '0', 'Fox', '245.36771', 'free', 'New Orleans-Metairie, LA', 'PUT', 'NextSong', '1.54103E+12', '100', 'Eye Of The Tiger', '200', '1.54111E+12', '101']]\n"
     ]
    }
   ],
   "source": [
    "print(full_data_rows_list)"
   ]
  },
  {
   "cell_type": "code",
   "execution_count": 9,
   "metadata": {
    "editable": true
   },
   "outputs": [
    {
     "name": "stdout",
     "output_type": "stream",
     "text": [
      "<built-in function len>\n"
     ]
    }
   ],
   "source": [
    "print(len)"
   ]
  },
  {
   "cell_type": "code",
   "execution_count": 10,
   "metadata": {
    "editable": true
   },
   "outputs": [
    {
     "name": "stdout",
     "output_type": "stream",
     "text": [
      "112\n"
     ]
    }
   ],
   "source": [
    "# check the number of rows in your csv file\n",
    "with open('event_datafile_new.csv', 'r', encoding = 'utf8') as f:\n",
    "    print(sum(1 for line in f))"
   ]
  },
  {
   "cell_type": "markdown",
   "metadata": {
    "editable": true
   },
   "source": [
    "# Part II. Complete the Apache Cassandra coding portion of your project. \n",
    "\n",
    "## Now you are ready to work with the CSV file titled <font color=red>event_datafile_new.csv</font>, located within the Workspace directory.  The event_datafile_new.csv contains the following columns: \n",
    "- artist \n",
    "- firstName of user\n",
    "- gender of user\n",
    "- item number in session\n",
    "- last name of user\n",
    "- length of the song\n",
    "- level (paid or free song)\n",
    "- location of the user\n",
    "- sessionId\n",
    "- song title\n",
    "- userId\n",
    "\n",
    "The image below is a screenshot of what the denormalized data should appear like in the <font color=red>**event_datafile_new.csv**</font> after the code above is run:<br>\n",
    "\n",
    "<img src=\"images/image_event_datafile_new.jpg\">"
   ]
  },
  {
   "cell_type": "markdown",
   "metadata": {
    "editable": true
   },
   "source": [
    "## Begin writing your Apache Cassandra code in the cells below"
   ]
  },
  {
   "cell_type": "markdown",
   "metadata": {
    "editable": true
   },
   "source": [
    "#### Creating a Cluster"
   ]
  },
  {
   "cell_type": "code",
   "execution_count": 27,
   "metadata": {
    "editable": true
   },
   "outputs": [],
   "source": [
    "# This should make a connection to a Cassandra instance your local machine \n",
    "# (127.0.0.1)\n",
    "\n",
    "from cassandra.cluster import Cluster\n",
    "cluster = Cluster()\n",
    "\n",
    "# To establish connection and begin executing queries, need a session\n",
    "session = cluster.connect()"
   ]
  },
  {
   "cell_type": "markdown",
   "metadata": {
    "editable": true
   },
   "source": [
    "#### Create Keyspace"
   ]
  },
  {
   "cell_type": "code",
   "execution_count": 28,
   "metadata": {
    "editable": true
   },
   "outputs": [],
   "source": [
    "# TO-DO: Create a Keyspace \n",
    "try:\n",
    "    session.execute(\"\"\"\n",
    "    CREATE KEYSPACE IF NOT EXISTS sparkify \n",
    "    WITH REPLICATION =  \n",
    "    {'class': 'SimpleStrategy', 'replication_factor' : 1 } \"\"\")\n",
    "\n",
    "except Exception as e: \n",
    "    print(e)"
   ]
  },
  {
   "cell_type": "markdown",
   "metadata": {
    "editable": true
   },
   "source": [
    "#### Set Keyspace"
   ]
  },
  {
   "cell_type": "code",
   "execution_count": 29,
   "metadata": {
    "editable": true
   },
   "outputs": [],
   "source": [
    "# TO-DO: Set KEYSPACE to the keyspace specified above\n",
    "\n",
    "try:\n",
    "    session.set_keyspace('sparkify')\n",
    "    \n",
    "except Exception as e:\n",
    "    print(e)\n"
   ]
  },
  {
   "cell_type": "markdown",
   "metadata": {
    "editable": true
   },
   "source": [
    "### Now we need to create tables to run the following queries. Remember, with Apache Cassandra you model the database tables on the queries you want to run."
   ]
  },
  {
   "cell_type": "markdown",
   "metadata": {
    "editable": true
   },
   "source": [
    "## Create queries to ask the following three questions of the data\n",
    "\n",
    "### 1. Give me the artist, song title and song's length in the music app history that was heard during  sessionId = 338, and itemInSession  = 4\n",
    "\n",
    "\n",
    "### 2. Give me only the following: name of artist, song (sorted by itemInSession) and user (first and last name) for userid = 10, sessionid = 182\n",
    "    \n",
    "\n",
    "### 3. Give me every user name (first and last) in my music app history who listened to the song 'All Hands Against His Own'\n",
    "\n",
    "\n"
   ]
  },
  {
   "cell_type": "code",
   "execution_count": 36,
   "metadata": {
    "editable": true
   },
   "outputs": [
    {
     "ename": "SyntaxError",
     "evalue": "EOL while scanning string literal (<ipython-input-36-76492569d535>, line 15)",
     "output_type": "error",
     "traceback": [
      "\u001b[0;36m  File \u001b[0;32m\"<ipython-input-36-76492569d535>\"\u001b[0;36m, line \u001b[0;32m15\u001b[0m\n\u001b[0;31m    \"(artist text, firstName text, gender text, iteminSession int,lastname int, length int, songtitle text, sessionId int, songtitle text, userId int,\u001b[0m\n\u001b[0m                                                                                                                                                      ^\u001b[0m\n\u001b[0;31mSyntaxError\u001b[0m\u001b[0;31m:\u001b[0m EOL while scanning string literal\n"
     ]
    }
   ],
   "source": [
    "\"\"\"\n",
    "0-artist\n",
    "1 firstName of user\n",
    "2gender of user\n",
    "3item number in session\n",
    "4last name of user\n",
    "5length of the song\n",
    "6level (paid or free song)\n",
    "7location of the user\n",
    "8sessionId\n",
    "9song title\n",
    "10userId\n",
    "\"\"\"\n",
    "\n",
    "\"(artist text, firstName text, gender text, iteminSession int,\\\n",
    "lastname int, length int, songtitle text, sessionId int, songtitle text, userId int,\n",
    "\n",
    "query = \"INSERT INTO songs (artist, firstname, gender, iteminSession, lastname, length, \\\n",
    "        level, location, sessionId, songtitle, userId)\""
   ]
  },
  {
   "cell_type": "code",
   "execution_count": 48,
   "metadata": {
    "editable": true
   },
   "outputs": [],
   "source": [
    "## TO-DO: Query 1:  Give me the artist, song title and song's length in the music app history that was heard during \\\n",
    "## sessionId = 338, and itemInSession = 4\n",
    "\n",
    "query = \"CREATE TABLE IF NOT EXISTS song_library\"\n",
    "\n",
    "query = query + \"(artist text, songtitle text, length float, sessionid int, iteminsession int, PRIMARY KEY (artist))\"\n",
    "\n",
    "\n",
    "                    "
   ]
  },
  {
   "cell_type": "code",
   "execution_count": 50,
   "metadata": {
    "editable": true
   },
   "outputs": [
    {
     "ename": "ValueError",
     "evalue": "Invalid execution_profile: '2'; valid profiles are dict_keys([<object object at 0x7ff229c0a290>])",
     "output_type": "error",
     "traceback": [
      "\u001b[0;31m---------------------------------------------------------------------------\u001b[0m",
      "\u001b[0;31mKeyError\u001b[0m                                  Traceback (most recent call last)",
      "\u001b[0;32m/opt/conda/lib/python3.6/site-packages/cassandra/cluster.cpython-36m-x86_64-linux-gnu.so\u001b[0m in \u001b[0;36mcassandra.cluster.Session._get_execution_profile (cassandra/cluster.c:40927)\u001b[0;34m()\u001b[0m\n",
      "\u001b[0;31mKeyError\u001b[0m: '2'",
      "\nDuring handling of the above exception, another exception occurred:\n",
      "\u001b[0;31mValueError\u001b[0m                                Traceback (most recent call last)",
      "\u001b[0;32m<ipython-input-50-c62d333ba4ae>\u001b[0m in \u001b[0;36m<module>\u001b[0;34m()\u001b[0m\n\u001b[1;32m     11\u001b[0m         \u001b[0;31m## TO-DO: Assign which column element should be assigned for each column in the INSERT statement.\u001b[0m\u001b[0;34m\u001b[0m\u001b[0;34m\u001b[0m\u001b[0m\n\u001b[1;32m     12\u001b[0m         \u001b[0;31m## For e.g., to INSERT artist_name and user first_name, you would change the code below to `line[0], line[1]`\u001b[0m\u001b[0;34m\u001b[0m\u001b[0;34m\u001b[0m\u001b[0m\n\u001b[0;32m---> 13\u001b[0;31m         \u001b[0msession\u001b[0m\u001b[0;34m.\u001b[0m\u001b[0mexecute\u001b[0m\u001b[0;34m(\u001b[0m\u001b[0mquery\u001b[0m\u001b[0;34m,\u001b[0m \u001b[0mline\u001b[0m\u001b[0;34m[\u001b[0m\u001b[0;36m0\u001b[0m\u001b[0;34m]\u001b[0m\u001b[0;34m,\u001b[0m \u001b[0mline\u001b[0m\u001b[0;34m[\u001b[0m\u001b[0;36m9\u001b[0m\u001b[0;34m]\u001b[0m\u001b[0;34m,\u001b[0m \u001b[0mfloat\u001b[0m\u001b[0;34m(\u001b[0m\u001b[0mline\u001b[0m\u001b[0;34m[\u001b[0m\u001b[0;36m5\u001b[0m\u001b[0;34m]\u001b[0m\u001b[0;34m)\u001b[0m\u001b[0;34m,\u001b[0m \u001b[0mline\u001b[0m\u001b[0;34m[\u001b[0m\u001b[0;36m8\u001b[0m\u001b[0;34m]\u001b[0m\u001b[0;34m,\u001b[0m \u001b[0mline\u001b[0m\u001b[0;34m[\u001b[0m\u001b[0;36m3\u001b[0m\u001b[0;34m]\u001b[0m\u001b[0;34m)\u001b[0m\u001b[0;34m\u001b[0m\u001b[0m\n\u001b[0m\u001b[1;32m     14\u001b[0m \u001b[0;34m\u001b[0m\u001b[0m\n",
      "\u001b[0;32m/opt/conda/lib/python3.6/site-packages/cassandra/cluster.cpython-36m-x86_64-linux-gnu.so\u001b[0m in \u001b[0;36mcassandra.cluster.Session.execute (cassandra/cluster.c:38517)\u001b[0;34m()\u001b[0m\n",
      "\u001b[0;32m/opt/conda/lib/python3.6/site-packages/cassandra/cluster.cpython-36m-x86_64-linux-gnu.so\u001b[0m in \u001b[0;36mcassandra.cluster.Session.execute_async (cassandra/cluster.c:38827)\u001b[0;34m()\u001b[0m\n",
      "\u001b[0;32m/opt/conda/lib/python3.6/site-packages/cassandra/cluster.cpython-36m-x86_64-linux-gnu.so\u001b[0m in \u001b[0;36mcassandra.cluster.Session._create_response_future (cassandra/cluster.c:39602)\u001b[0;34m()\u001b[0m\n",
      "\u001b[0;32m/opt/conda/lib/python3.6/site-packages/cassandra/cluster.cpython-36m-x86_64-linux-gnu.so\u001b[0m in \u001b[0;36mcassandra.cluster.Session._get_execution_profile (cassandra/cluster.c:41012)\u001b[0;34m()\u001b[0m\n",
      "\u001b[0;31mValueError\u001b[0m: Invalid execution_profile: '2'; valid profiles are dict_keys([<object object at 0x7ff229c0a290>])"
     ]
    }
   ],
   "source": [
    "# We have provided part of the code to set up the CSV file. Please complete the Apache Cassandra code below#\n",
    "file = 'event_datafile_new.csv'\n",
    "\n",
    "with open(file, encoding = 'utf8') as f:\n",
    "    csvreader = csv.reader(f)\n",
    "    next(csvreader) # skip header\n",
    "    for line in csvreader:\n",
    "## TO-DO: Assign the INSERT statements into the `query` variable\n",
    "        query = \"INSERT INTO song_library (artist, songtitle, length, sessionid, iteminsession)\"\n",
    "        query = query + \"values(%s, %s, %s, %s, %s)\"\n",
    "        ## TO-DO: Assign which column element should be assigned for each column in the INSERT statement.\n",
    "        ## For e.g., to INSERT artist_name and user first_name, you would change the code below to `line[0], line[1]`\n",
    "        session.execute(query, line[0], line[9], float(line[5]), line[8], line[3])\n",
    "       "
   ]
  },
  {
   "cell_type": "code",
   "execution_count": 22,
   "metadata": {
    "editable": true
   },
   "outputs": [
    {
     "name": "stdout",
     "output_type": "stream",
     "text": [
      "Error from server: code=2200 [Invalid query] message=\"unconfigured table song_library\"\n"
     ]
    }
   ],
   "source": []
  },
  {
   "cell_type": "markdown",
   "metadata": {
    "editable": true
   },
   "source": [
    "#### Do a SELECT to verify that the data have been inserted into each table"
   ]
  },
  {
   "cell_type": "code",
   "execution_count": null,
   "metadata": {
    "editable": true,
    "scrolled": true
   },
   "outputs": [],
   "source": [
    "## TO-DO: Add in the SELECT statement to verify the data was entered into the table\n",
    "session.execute(query, )"
   ]
  },
  {
   "cell_type": "markdown",
   "metadata": {
    "editable": true
   },
   "source": [
    "### COPY AND REPEAT THE ABOVE THREE CELLS FOR EACH OF THE THREE QUESTIONS"
   ]
  },
  {
   "cell_type": "code",
   "execution_count": null,
   "metadata": {
    "editable": true
   },
   "outputs": [],
   "source": [
    "## TO-DO: Query 2: Give me only the following: name of artist, song (sorted by itemInSession) and user (first and last name)\\\n",
    "## for userid = 10, sessionid = 182\n",
    "\n",
    "\n",
    "                    "
   ]
  },
  {
   "cell_type": "code",
   "execution_count": null,
   "metadata": {
    "editable": true
   },
   "outputs": [],
   "source": [
    "## TO-DO: Query 3: Give me every user name (first and last) in my music app history who listened to the song 'All Hands Against His Own'\n",
    "\n",
    "\n",
    "                    "
   ]
  },
  {
   "cell_type": "code",
   "execution_count": null,
   "metadata": {
    "editable": true
   },
   "outputs": [],
   "source": []
  },
  {
   "cell_type": "code",
   "execution_count": null,
   "metadata": {
    "editable": true
   },
   "outputs": [],
   "source": []
  },
  {
   "cell_type": "markdown",
   "metadata": {
    "editable": true
   },
   "source": [
    "### Drop the tables before closing out the sessions"
   ]
  },
  {
   "cell_type": "code",
   "execution_count": 4,
   "metadata": {
    "editable": true
   },
   "outputs": [],
   "source": [
    "## TO-DO: Drop the table before closing out the sessions"
   ]
  },
  {
   "cell_type": "code",
   "execution_count": null,
   "metadata": {
    "editable": true
   },
   "outputs": [],
   "source": []
  },
  {
   "cell_type": "markdown",
   "metadata": {
    "editable": true
   },
   "source": [
    "### Close the session and cluster connection¶"
   ]
  },
  {
   "cell_type": "code",
   "execution_count": null,
   "metadata": {
    "editable": true
   },
   "outputs": [],
   "source": [
    "session.shutdown()\n",
    "cluster.shutdown()"
   ]
  },
  {
   "cell_type": "code",
   "execution_count": null,
   "metadata": {
    "editable": true
   },
   "outputs": [],
   "source": []
  },
  {
   "cell_type": "code",
   "execution_count": null,
   "metadata": {
    "editable": true
   },
   "outputs": [],
   "source": []
  }
 ],
 "metadata": {
  "kernelspec": {
   "display_name": "Python 3",
   "language": "python",
   "name": "python3"
  },
  "language_info": {
   "codemirror_mode": {
    "name": "ipython",
    "version": 3
   },
   "file_extension": ".py",
   "mimetype": "text/x-python",
   "name": "python",
   "nbconvert_exporter": "python",
   "pygments_lexer": "ipython3",
   "version": "3.6.3"
  }
 },
 "nbformat": 4,
 "nbformat_minor": 4
}
